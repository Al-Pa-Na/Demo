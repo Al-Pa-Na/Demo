{
  "nbformat": 4,
  "nbformat_minor": 0,
  "metadata": {
    "colab": {
      "provenance": [],
      "authorship_tag": "ABX9TyNvbgwir5er4vtW3n7j4Wy/",
      "include_colab_link": true
    },
    "kernelspec": {
      "name": "python3",
      "display_name": "Python 3"
    },
    "language_info": {
      "name": "python"
    }
  },
  "cells": [
    {
      "cell_type": "markdown",
      "metadata": {
        "id": "view-in-github",
        "colab_type": "text"
      },
      "source": [
        "<a href=\"https://colab.research.google.com/github/Al-Pa-Na/Demo/blob/main/WE_S2.ipynb\" target=\"_parent\"><img src=\"https://colab.research.google.com/assets/colab-badge.svg\" alt=\"Open In Colab\"/></a>"
      ]
    },
    {
      "cell_type": "code",
      "execution_count": 10,
      "metadata": {
        "id": "AIw1UkfCxNtu"
      },
      "outputs": [],
      "source": [
        "def round_off(invoice_value: float) -> int:\n",
        "    remainder = invoice_value%10\n",
        "    if remainder > 5:\n",
        "        return int(invoice_value + (10-remainder))\n",
        "    else:\n",
        "        return int(invoice_value - remainder)\n"
      ]
    },
    {
      "cell_type": "code",
      "source": [
        "print(round_off(12667.20))"
      ],
      "metadata": {
        "colab": {
          "base_uri": "https://localhost:8080/"
        },
        "id": "SCOPkDW9u6Pb",
        "outputId": "1d5a2a0d-a776-4170-8030-5e9af61b2e93"
      },
      "execution_count": 11,
      "outputs": [
        {
          "output_type": "stream",
          "name": "stdout",
          "text": [
            "12670\n"
          ]
        }
      ]
    }
  ]
}