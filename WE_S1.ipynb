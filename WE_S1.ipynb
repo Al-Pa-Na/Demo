{
  "nbformat": 4,
  "nbformat_minor": 0,
  "metadata": {
    "colab": {
      "provenance": [],
      "toc_visible": true,
      "authorship_tag": "ABX9TyOkMxSz5lPdE8bXfpjd4YcX",
      "include_colab_link": true
    },
    "kernelspec": {
      "name": "python3",
      "display_name": "Python 3"
    },
    "language_info": {
      "name": "python"
    }
  },
  "cells": [
    {
      "cell_type": "markdown",
      "metadata": {
        "id": "view-in-github",
        "colab_type": "text"
      },
      "source": [
        "<a href=\"https://colab.research.google.com/github/Al-Pa-Na/Demo/blob/main/WE_S1.ipynb\" target=\"_parent\"><img src=\"https://colab.research.google.com/assets/colab-badge.svg\" alt=\"Open In Colab\"/></a>"
      ]
    },
    {
      "cell_type": "code",
      "execution_count": 7,
      "metadata": {
        "id": "6TRI2iKciUGU"
      },
      "outputs": [],
      "source": [
        "def euler (limit: int) -> int:\n",
        "    n,total=1,0\n",
        "    while n<limit:\n",
        "        if n% 3 ==0 or n% 5==0:\n",
        "            total+=n\n",
        "        n+=1\n",
        "    return total\n"
      ]
    },
    {
      "cell_type": "code",
      "source": [
        "print(euler(10))"
      ],
      "metadata": {
        "colab": {
          "base_uri": "https://localhost:8080/"
        },
        "id": "WDV34M5qoAmt",
        "outputId": "661fe41a-eede-4590-e39d-6b53022e5fc6"
      },
      "execution_count": 8,
      "outputs": [
        {
          "output_type": "stream",
          "name": "stdout",
          "text": [
            "23\n"
          ]
        }
      ]
    }
  ]
}